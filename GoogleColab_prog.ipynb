{
  "nbformat": 4,
  "nbformat_minor": 0,
  "metadata": {
    "colab": {
      "provenance": [],
      "authorship_tag": "ABX9TyPXEbDrtwNjAotXi0rWluSV",
      "include_colab_link": true
    },
    "kernelspec": {
      "name": "python3",
      "display_name": "Python 3"
    },
    "language_info": {
      "name": "python"
    }
  },
  "cells": [
    {
      "cell_type": "markdown",
      "metadata": {
        "id": "view-in-github",
        "colab_type": "text"
      },
      "source": [
        "<a href=\"https://colab.research.google.com/github/jovanRadan/MMP/blob/master/GoogleColab_prog.ipynb\" target=\"_parent\"><img src=\"https://colab.research.google.com/assets/colab-badge.svg\" alt=\"Open In Colab\"/></a>"
      ]
    },
    {
      "cell_type": "code",
      "source": [
        "import os\n",
        "import cv2\n",
        "from PIL import Image\n",
        "import numpy as np"
      ],
      "metadata": {
        "id": "gUg77rp4i2OX"
      },
      "execution_count": 67,
      "outputs": []
    },
    {
      "cell_type": "code",
      "source": [
        "!unzip Semantic_segmentation_dataset.zip\n"
      ],
      "metadata": {
        "colab": {
          "base_uri": "https://localhost:8080/"
        },
        "id": "_l9DDVTdgVD3",
        "outputId": "9971b526-fd8c-45b9-a906-8d707be9d61c"
      },
      "execution_count": 14,
      "outputs": [
        {
          "output_type": "stream",
          "name": "stdout",
          "text": [
            "Archive:  Semantic_segmentation_dataset.zip\n",
            "  inflating: Semantic segmentation dataset/classes.json  \n",
            "   creating: Semantic segmentation dataset/Tile 1/\n",
            "   creating: Semantic segmentation dataset/Tile 1/images/\n",
            "  inflating: Semantic segmentation dataset/Tile 1/images/image_part_001.jpg  \n",
            "  inflating: Semantic segmentation dataset/Tile 1/images/image_part_002.jpg  \n",
            "  inflating: Semantic segmentation dataset/Tile 1/images/image_part_003.jpg  \n",
            "  inflating: Semantic segmentation dataset/Tile 1/images/image_part_004.jpg  \n",
            "  inflating: Semantic segmentation dataset/Tile 1/images/image_part_005.jpg  \n",
            "  inflating: Semantic segmentation dataset/Tile 1/images/image_part_006.jpg  \n",
            "  inflating: Semantic segmentation dataset/Tile 1/images/image_part_007.jpg  \n",
            "  inflating: Semantic segmentation dataset/Tile 1/images/image_part_008.jpg  \n",
            "  inflating: Semantic segmentation dataset/Tile 1/images/image_part_009.jpg  \n",
            "   creating: Semantic segmentation dataset/Tile 1/masks/\n",
            "  inflating: Semantic segmentation dataset/Tile 1/masks/image_part_001.png  \n",
            "  inflating: Semantic segmentation dataset/Tile 1/masks/image_part_002.png  \n",
            "  inflating: Semantic segmentation dataset/Tile 1/masks/image_part_003.png  \n",
            "  inflating: Semantic segmentation dataset/Tile 1/masks/image_part_004.png  \n",
            "  inflating: Semantic segmentation dataset/Tile 1/masks/image_part_005.png  \n",
            "  inflating: Semantic segmentation dataset/Tile 1/masks/image_part_006.png  \n",
            "  inflating: Semantic segmentation dataset/Tile 1/masks/image_part_007.png  \n",
            "  inflating: Semantic segmentation dataset/Tile 1/masks/image_part_008.png  \n",
            "  inflating: Semantic segmentation dataset/Tile 1/masks/image_part_009.png  \n",
            "   creating: Semantic segmentation dataset/Tile 2/\n",
            "   creating: Semantic segmentation dataset/Tile 2/images/\n",
            "  inflating: Semantic segmentation dataset/Tile 2/images/image_part_001.jpg  \n",
            "  inflating: Semantic segmentation dataset/Tile 2/images/image_part_002.jpg  \n",
            "  inflating: Semantic segmentation dataset/Tile 2/images/image_part_003.jpg  \n",
            "  inflating: Semantic segmentation dataset/Tile 2/images/image_part_004.jpg  \n",
            "  inflating: Semantic segmentation dataset/Tile 2/images/image_part_005.jpg  \n",
            "  inflating: Semantic segmentation dataset/Tile 2/images/image_part_006.jpg  \n",
            "  inflating: Semantic segmentation dataset/Tile 2/images/image_part_007.jpg  \n",
            "  inflating: Semantic segmentation dataset/Tile 2/images/image_part_008.jpg  \n",
            "  inflating: Semantic segmentation dataset/Tile 2/images/image_part_009.jpg  \n",
            "   creating: Semantic segmentation dataset/Tile 2/masks/\n",
            "  inflating: Semantic segmentation dataset/Tile 2/masks/image_part_001.png  \n",
            "  inflating: Semantic segmentation dataset/Tile 2/masks/image_part_002.png  \n",
            "  inflating: Semantic segmentation dataset/Tile 2/masks/image_part_003.png  \n",
            "  inflating: Semantic segmentation dataset/Tile 2/masks/image_part_004.png  \n",
            "  inflating: Semantic segmentation dataset/Tile 2/masks/image_part_005.png  \n",
            "  inflating: Semantic segmentation dataset/Tile 2/masks/image_part_006.png  \n",
            "  inflating: Semantic segmentation dataset/Tile 2/masks/image_part_007.png  \n",
            "  inflating: Semantic segmentation dataset/Tile 2/masks/image_part_008.png  \n",
            "  inflating: Semantic segmentation dataset/Tile 2/masks/image_part_009.png  \n",
            "   creating: Semantic segmentation dataset/Tile 3/\n",
            "   creating: Semantic segmentation dataset/Tile 3/images/\n",
            "  inflating: Semantic segmentation dataset/Tile 3/images/image_part_001.jpg  \n",
            "  inflating: Semantic segmentation dataset/Tile 3/images/image_part_002.jpg  \n",
            "  inflating: Semantic segmentation dataset/Tile 3/images/image_part_003.jpg  \n",
            "  inflating: Semantic segmentation dataset/Tile 3/images/image_part_004.jpg  \n",
            "  inflating: Semantic segmentation dataset/Tile 3/images/image_part_005.jpg  \n",
            "  inflating: Semantic segmentation dataset/Tile 3/images/image_part_006.jpg  \n",
            "  inflating: Semantic segmentation dataset/Tile 3/images/image_part_007.jpg  \n",
            "  inflating: Semantic segmentation dataset/Tile 3/images/image_part_008.jpg  \n",
            "  inflating: Semantic segmentation dataset/Tile 3/images/image_part_009.jpg  \n",
            "   creating: Semantic segmentation dataset/Tile 3/masks/\n",
            "  inflating: Semantic segmentation dataset/Tile 3/masks/image_part_001.png  \n",
            "  inflating: Semantic segmentation dataset/Tile 3/masks/image_part_002.png  \n",
            "  inflating: Semantic segmentation dataset/Tile 3/masks/image_part_003.png  \n",
            "  inflating: Semantic segmentation dataset/Tile 3/masks/image_part_004.png  \n",
            "  inflating: Semantic segmentation dataset/Tile 3/masks/image_part_005.png  \n",
            "  inflating: Semantic segmentation dataset/Tile 3/masks/image_part_006.png  \n",
            "  inflating: Semantic segmentation dataset/Tile 3/masks/image_part_007.png  \n",
            "  inflating: Semantic segmentation dataset/Tile 3/masks/image_part_008.png  \n",
            "  inflating: Semantic segmentation dataset/Tile 3/masks/image_part_009.png  \n",
            "   creating: Semantic segmentation dataset/Tile 4/\n",
            "   creating: Semantic segmentation dataset/Tile 4/images/\n",
            "  inflating: Semantic segmentation dataset/Tile 4/images/image_part_001.jpg  \n",
            "  inflating: Semantic segmentation dataset/Tile 4/images/image_part_002.jpg  \n",
            "  inflating: Semantic segmentation dataset/Tile 4/images/image_part_003.jpg  \n",
            "  inflating: Semantic segmentation dataset/Tile 4/images/image_part_004.jpg  \n",
            "  inflating: Semantic segmentation dataset/Tile 4/images/image_part_005.jpg  \n",
            "  inflating: Semantic segmentation dataset/Tile 4/images/image_part_006.jpg  \n",
            "  inflating: Semantic segmentation dataset/Tile 4/images/image_part_007.jpg  \n",
            "  inflating: Semantic segmentation dataset/Tile 4/images/image_part_008.jpg  \n",
            "  inflating: Semantic segmentation dataset/Tile 4/images/image_part_009.jpg  \n",
            "   creating: Semantic segmentation dataset/Tile 4/masks/\n",
            "  inflating: Semantic segmentation dataset/Tile 4/masks/image_part_001.png  \n",
            "  inflating: Semantic segmentation dataset/Tile 4/masks/image_part_002.png  \n",
            "  inflating: Semantic segmentation dataset/Tile 4/masks/image_part_003.png  \n",
            "  inflating: Semantic segmentation dataset/Tile 4/masks/image_part_004.png  \n",
            "  inflating: Semantic segmentation dataset/Tile 4/masks/image_part_005.png  \n",
            "  inflating: Semantic segmentation dataset/Tile 4/masks/image_part_006.png  \n",
            "  inflating: Semantic segmentation dataset/Tile 4/masks/image_part_007.png  \n",
            "  inflating: Semantic segmentation dataset/Tile 4/masks/image_part_008.png  \n",
            "  inflating: Semantic segmentation dataset/Tile 4/masks/image_part_009.png  \n",
            "   creating: Semantic segmentation dataset/Tile 5/\n",
            "   creating: Semantic segmentation dataset/Tile 5/images/\n",
            "  inflating: Semantic segmentation dataset/Tile 5/images/image_part_001.jpg  \n",
            "  inflating: Semantic segmentation dataset/Tile 5/images/image_part_002.jpg  \n",
            "  inflating: Semantic segmentation dataset/Tile 5/images/image_part_003.jpg  \n",
            "  inflating: Semantic segmentation dataset/Tile 5/images/image_part_004.jpg  \n",
            "  inflating: Semantic segmentation dataset/Tile 5/images/image_part_005.jpg  \n",
            "  inflating: Semantic segmentation dataset/Tile 5/images/image_part_006.jpg  \n",
            "  inflating: Semantic segmentation dataset/Tile 5/images/image_part_007.jpg  \n",
            "  inflating: Semantic segmentation dataset/Tile 5/images/image_part_008.jpg  \n",
            "  inflating: Semantic segmentation dataset/Tile 5/images/image_part_009.jpg  \n",
            "   creating: Semantic segmentation dataset/Tile 5/masks/\n",
            "  inflating: Semantic segmentation dataset/Tile 5/masks/image_part_001.png  \n",
            "  inflating: Semantic segmentation dataset/Tile 5/masks/image_part_002.png  \n",
            "  inflating: Semantic segmentation dataset/Tile 5/masks/image_part_003.png  \n",
            "  inflating: Semantic segmentation dataset/Tile 5/masks/image_part_004.png  \n",
            "  inflating: Semantic segmentation dataset/Tile 5/masks/image_part_005.png  \n",
            "  inflating: Semantic segmentation dataset/Tile 5/masks/image_part_006.png  \n",
            "  inflating: Semantic segmentation dataset/Tile 5/masks/image_part_007.png  \n",
            "  inflating: Semantic segmentation dataset/Tile 5/masks/image_part_008.png  \n",
            "  inflating: Semantic segmentation dataset/Tile 5/masks/image_part_009.png  \n",
            "   creating: Semantic segmentation dataset/Tile 6/\n",
            "   creating: Semantic segmentation dataset/Tile 6/images/\n",
            "  inflating: Semantic segmentation dataset/Tile 6/images/image_part_001.jpg  \n",
            "  inflating: Semantic segmentation dataset/Tile 6/images/image_part_002.jpg  \n",
            "  inflating: Semantic segmentation dataset/Tile 6/images/image_part_003.jpg  \n",
            "  inflating: Semantic segmentation dataset/Tile 6/images/image_part_004.jpg  \n",
            "  inflating: Semantic segmentation dataset/Tile 6/images/image_part_005.jpg  \n",
            "  inflating: Semantic segmentation dataset/Tile 6/images/image_part_006.jpg  \n",
            "  inflating: Semantic segmentation dataset/Tile 6/images/image_part_007.jpg  \n",
            "  inflating: Semantic segmentation dataset/Tile 6/images/image_part_008.jpg  \n",
            "  inflating: Semantic segmentation dataset/Tile 6/images/image_part_009.jpg  \n",
            "   creating: Semantic segmentation dataset/Tile 6/masks/\n",
            "  inflating: Semantic segmentation dataset/Tile 6/masks/image_part_001.png  \n",
            "  inflating: Semantic segmentation dataset/Tile 6/masks/image_part_002.png  \n",
            "  inflating: Semantic segmentation dataset/Tile 6/masks/image_part_003.png  \n",
            "  inflating: Semantic segmentation dataset/Tile 6/masks/image_part_004.png  \n",
            "  inflating: Semantic segmentation dataset/Tile 6/masks/image_part_005.png  \n",
            "  inflating: Semantic segmentation dataset/Tile 6/masks/image_part_006.png  \n",
            "  inflating: Semantic segmentation dataset/Tile 6/masks/image_part_007.png  \n",
            "  inflating: Semantic segmentation dataset/Tile 6/masks/image_part_008.png  \n",
            "  inflating: Semantic segmentation dataset/Tile 6/masks/image_part_009.png  \n",
            "   creating: Semantic segmentation dataset/Tile 7/\n",
            "   creating: Semantic segmentation dataset/Tile 7/images/\n",
            "  inflating: Semantic segmentation dataset/Tile 7/images/image_part_001.jpg  \n",
            "  inflating: Semantic segmentation dataset/Tile 7/images/image_part_002.jpg  \n",
            "  inflating: Semantic segmentation dataset/Tile 7/images/image_part_003.jpg  \n",
            "  inflating: Semantic segmentation dataset/Tile 7/images/image_part_004.jpg  \n",
            "  inflating: Semantic segmentation dataset/Tile 7/images/image_part_005.jpg  \n",
            "  inflating: Semantic segmentation dataset/Tile 7/images/image_part_006.jpg  \n",
            "  inflating: Semantic segmentation dataset/Tile 7/images/image_part_007.jpg  \n",
            "  inflating: Semantic segmentation dataset/Tile 7/images/image_part_008.jpg  \n",
            "  inflating: Semantic segmentation dataset/Tile 7/images/image_part_009.jpg  \n",
            "   creating: Semantic segmentation dataset/Tile 7/masks/\n",
            "  inflating: Semantic segmentation dataset/Tile 7/masks/image_part_001.png  \n",
            "  inflating: Semantic segmentation dataset/Tile 7/masks/image_part_002.png  \n",
            "  inflating: Semantic segmentation dataset/Tile 7/masks/image_part_003.png  \n",
            "  inflating: Semantic segmentation dataset/Tile 7/masks/image_part_004.png  \n",
            "  inflating: Semantic segmentation dataset/Tile 7/masks/image_part_005.png  \n",
            "  inflating: Semantic segmentation dataset/Tile 7/masks/image_part_006.png  \n",
            "  inflating: Semantic segmentation dataset/Tile 7/masks/image_part_007.png  \n",
            "  inflating: Semantic segmentation dataset/Tile 7/masks/image_part_008.png  \n",
            "  inflating: Semantic segmentation dataset/Tile 7/masks/image_part_009.png  \n",
            "   creating: Semantic segmentation dataset/Tile 8/\n",
            "   creating: Semantic segmentation dataset/Tile 8/images/\n",
            "  inflating: Semantic segmentation dataset/Tile 8/images/image_part_001.jpg  \n",
            "  inflating: Semantic segmentation dataset/Tile 8/images/image_part_002.jpg  \n",
            "  inflating: Semantic segmentation dataset/Tile 8/images/image_part_003.jpg  \n",
            "  inflating: Semantic segmentation dataset/Tile 8/images/image_part_004.jpg  \n",
            "  inflating: Semantic segmentation dataset/Tile 8/images/image_part_005.jpg  \n",
            "  inflating: Semantic segmentation dataset/Tile 8/images/image_part_006.jpg  \n",
            "  inflating: Semantic segmentation dataset/Tile 8/images/image_part_007.jpg  \n",
            "  inflating: Semantic segmentation dataset/Tile 8/images/image_part_008.jpg  \n",
            "  inflating: Semantic segmentation dataset/Tile 8/images/image_part_009.jpg  \n",
            "   creating: Semantic segmentation dataset/Tile 8/masks/\n",
            "  inflating: Semantic segmentation dataset/Tile 8/masks/image_part_001.png  \n",
            "  inflating: Semantic segmentation dataset/Tile 8/masks/image_part_002.png  \n",
            "  inflating: Semantic segmentation dataset/Tile 8/masks/image_part_003.png  \n",
            "  inflating: Semantic segmentation dataset/Tile 8/masks/image_part_004.png  \n",
            "  inflating: Semantic segmentation dataset/Tile 8/masks/image_part_005.png  \n",
            "  inflating: Semantic segmentation dataset/Tile 8/masks/image_part_006.png  \n",
            "  inflating: Semantic segmentation dataset/Tile 8/masks/image_part_007.png  \n",
            "  inflating: Semantic segmentation dataset/Tile 8/masks/image_part_008.png  \n",
            "  inflating: Semantic segmentation dataset/Tile 8/masks/image_part_009.png  \n"
          ]
        }
      ]
    },
    {
      "cell_type": "code",
      "source": [
        "!ls -lah '/content/Semantic segmentation dataset'"
      ],
      "metadata": {
        "colab": {
          "base_uri": "https://localhost:8080/"
        },
        "id": "TPBqWNb2gjJp",
        "outputId": "ead67aa4-a843-4373-bd73-2b2fa6706704"
      },
      "execution_count": 15,
      "outputs": [
        {
          "output_type": "stream",
          "name": "stdout",
          "text": [
            "total 44K\n",
            "drwxr-xr-x 10 root root 4.0K Mar 11 12:34  .\n",
            "drwxr-xr-x  1 root root 4.0K Mar 11 12:34  ..\n",
            "-rw-r--r--  1 root root  548 Mar 11 10:55  classes.json\n",
            "drwxr-xr-x  4 root root 4.0K Mar 11 10:56 'Tile 1'\n",
            "drwxr-xr-x  4 root root 4.0K Mar 11 10:56 'Tile 2'\n",
            "drwxr-xr-x  4 root root 4.0K Mar 11 10:56 'Tile 3'\n",
            "drwxr-xr-x  4 root root 4.0K Mar 11 10:56 'Tile 4'\n",
            "drwxr-xr-x  4 root root 4.0K Mar 11 10:56 'Tile 5'\n",
            "drwxr-xr-x  4 root root 4.0K Mar 11 10:56 'Tile 6'\n",
            "drwxr-xr-x  4 root root 4.0K Mar 11 10:56 'Tile 7'\n",
            "drwxr-xr-x  4 root root 4.0K Mar 11 10:56 'Tile 8'\n"
          ]
        }
      ]
    },
    {
      "cell_type": "code",
      "source": [
        "dataset_root_folder ='/content'"
      ],
      "metadata": {
        "id": "PVfchpOxg6Ev"
      },
      "execution_count": 16,
      "outputs": []
    },
    {
      "cell_type": "code",
      "source": [
        "!ls -lah '/content/DubaiDataset'"
      ],
      "metadata": {
        "colab": {
          "base_uri": "https://localhost:8080/"
        },
        "id": "vIoWHDqAig3b",
        "outputId": "100ce97a-5520-4124-a684-7530b367fcaa"
      },
      "execution_count": 17,
      "outputs": [
        {
          "output_type": "stream",
          "name": "stdout",
          "text": [
            "total 44K\n",
            "drwxr-xr-x 10 root root 4.0K Mar 11 12:34  .\n",
            "drwxr-xr-x  1 root root 4.0K Mar 11 12:44  ..\n",
            "-rw-r--r--  1 root root  548 Mar 11 10:55  classes.json\n",
            "drwxr-xr-x  4 root root 4.0K Mar 11 10:56 'Tile 1'\n",
            "drwxr-xr-x  4 root root 4.0K Mar 11 10:56 'Tile 2'\n",
            "drwxr-xr-x  4 root root 4.0K Mar 11 10:56 'Tile 3'\n",
            "drwxr-xr-x  4 root root 4.0K Mar 11 10:56 'Tile 4'\n",
            "drwxr-xr-x  4 root root 4.0K Mar 11 10:56 'Tile 5'\n",
            "drwxr-xr-x  4 root root 4.0K Mar 11 10:56 'Tile 6'\n",
            "drwxr-xr-x  4 root root 4.0K Mar 11 10:56 'Tile 7'\n",
            "drwxr-xr-x  4 root root 4.0K Mar 11 10:56 'Tile 8'\n"
          ]
        }
      ]
    },
    {
      "cell_type": "code",
      "source": [
        "dataset_name = \"DubaiDataset\""
      ],
      "metadata": {
        "id": "m7eNwRx6iuy0"
      },
      "execution_count": 18,
      "outputs": []
    },
    {
      "cell_type": "code",
      "source": [
        "for path, subdirs, files in os.walk(os.path.join(dataset_root_folder, dataset_name)):\n",
        "  dir_name = path.split(os.path.sep)[-1]\n",
        "  #print(dir_name)\n",
        "  if dir_name == 'masks': #images\n",
        "    images = os.listdir(path)\n",
        "    print(path)\n",
        "    #print(images)\n",
        "    for i, image_name in enumerate(images):\n",
        "      if (image_name.endswith('.jpg')):\n",
        "        #print(image_name)\n",
        "        aa = True"
      ],
      "metadata": {
        "colab": {
          "base_uri": "https://localhost:8080/"
        },
        "id": "AC2s4wnai8b-",
        "outputId": "abee9f00-e68d-463b-a0b2-0371b1b3afe7"
      },
      "execution_count": 31,
      "outputs": [
        {
          "output_type": "stream",
          "name": "stdout",
          "text": [
            "/content/DubaiDataset/Tile 1/masks\n",
            "/content/DubaiDataset/Tile 8/masks\n",
            "/content/DubaiDataset/Tile 3/masks\n",
            "/content/DubaiDataset/Tile 4/masks\n",
            "/content/DubaiDataset/Tile 2/masks\n",
            "/content/DubaiDataset/Tile 5/masks\n",
            "/content/DubaiDataset/Tile 7/masks\n",
            "/content/DubaiDataset/Tile 6/masks\n"
          ]
        }
      ]
    },
    {
      "cell_type": "code",
      "source": [
        "image_patch_size = 256"
      ],
      "metadata": {
        "id": "0Q0qxJcZ6yT3"
      },
      "execution_count": 58,
      "outputs": []
    },
    {
      "cell_type": "code",
      "source": [
        "image = cv2.imread(f'{dataset_root_folder}/{dataset_name}/Tile 2/images/image_part_001.jpg')"
      ],
      "metadata": {
        "id": "Z7hXCfPEji-1"
      },
      "execution_count": 68,
      "outputs": []
    },
    {
      "cell_type": "code",
      "source": [
        "print(type(image))"
      ],
      "metadata": {
        "colab": {
          "base_uri": "https://localhost:8080/"
        },
        "id": "5NnjnJEF8yb5",
        "outputId": "736f6fe5-e1d6-4a68-bcdb-3411e5f854e0"
      },
      "execution_count": 69,
      "outputs": [
        {
          "output_type": "stream",
          "name": "stdout",
          "text": [
            "<class 'numpy.ndarray'>\n"
          ]
        }
      ]
    },
    {
      "cell_type": "code",
      "source": [
        "type(Image.fromarray(image))"
      ],
      "metadata": {
        "colab": {
          "base_uri": "https://localhost:8080/",
          "height": 186
        },
        "id": "LSyK2Liu9aCC",
        "outputId": "a094f5e1-783d-4cc2-b74f-3f727c7903a6"
      },
      "execution_count": 70,
      "outputs": [
        {
          "output_type": "execute_result",
          "data": {
            "text/plain": [
              "PIL.Image.Image"
            ],
            "text/html": [
              "<div style=\"max-width:800px; border: 1px solid var(--colab-border-color);\"><style>\n",
              "      pre.function-repr-contents {\n",
              "        overflow-x: auto;\n",
              "        padding: 8px 12px;\n",
              "        max-height: 500px;\n",
              "      }\n",
              "\n",
              "      pre.function-repr-contents.function-repr-contents-collapsed {\n",
              "        cursor: pointer;\n",
              "        max-height: 100px;\n",
              "      }\n",
              "    </style>\n",
              "    <pre style=\"white-space: initial; background:\n",
              "         var(--colab-secondary-surface-color); padding: 8px 12px;\n",
              "         border-bottom: 1px solid var(--colab-border-color);\"><b>PIL.Image.Image</b><br/>def __init__()</pre><pre class=\"function-repr-contents function-repr-contents-collapsed\" style=\"\"><a class=\"filepath\" style=\"display:none\" href=\"#\">/usr/local/lib/python3.10/dist-packages/PIL/Image.py</a>This class represents an image object.  To create\n",
              ":py:class:`~PIL.Image.Image` objects, use the appropriate factory\n",
              "functions.  There&#x27;s hardly ever any reason to call the Image constructor\n",
              "directly.\n",
              "\n",
              "* :py:func:`~PIL.Image.open`\n",
              "* :py:func:`~PIL.Image.new`\n",
              "* :py:func:`~PIL.Image.frombytes`</pre>\n",
              "      <script>\n",
              "      if (google.colab.kernel.accessAllowed && google.colab.files && google.colab.files.view) {\n",
              "        for (const element of document.querySelectorAll('.filepath')) {\n",
              "          element.style.display = 'block'\n",
              "          element.onclick = (event) => {\n",
              "            event.preventDefault();\n",
              "            event.stopPropagation();\n",
              "            google.colab.files.view(element.textContent, 496);\n",
              "          };\n",
              "        }\n",
              "      }\n",
              "      for (const element of document.querySelectorAll('.function-repr-contents')) {\n",
              "        element.onclick = (event) => {\n",
              "          event.preventDefault();\n",
              "          event.stopPropagation();\n",
              "          element.classList.toggle('function-repr-contents-collapsed');\n",
              "        };\n",
              "      }\n",
              "      </script>\n",
              "      </div>"
            ]
          },
          "metadata": {},
          "execution_count": 70
        }
      ]
    },
    {
      "cell_type": "code",
      "source": [
        "image.shape"
      ],
      "metadata": {
        "colab": {
          "base_uri": "https://localhost:8080/"
        },
        "id": "1k562Gd73Ivo",
        "outputId": "1f61023a-c85f-46aa-f6b4-4dfba37a5c29"
      },
      "execution_count": 50,
      "outputs": [
        {
          "output_type": "execute_result",
          "data": {
            "text/plain": [
              "(544, 509, 3)"
            ]
          },
          "metadata": {},
          "execution_count": 50
        }
      ]
    },
    {
      "cell_type": "code",
      "source": [
        "(image.shape[0]//image_patch_size)*image_patch_size"
      ],
      "metadata": {
        "colab": {
          "base_uri": "https://localhost:8080/"
        },
        "id": "_8GYH_ae7A-1",
        "outputId": "d78b937e-9e2d-4da7-a862-ac403c5a4628"
      },
      "execution_count": 53,
      "outputs": [
        {
          "output_type": "execute_result",
          "data": {
            "text/plain": [
              "512"
            ]
          },
          "metadata": {},
          "execution_count": 53
        }
      ]
    },
    {
      "cell_type": "code",
      "source": [
        "image_dataset = []\n",
        "\n",
        "image_extension ='jpg' # 'png'\n",
        "image_type = 'images' # 'images' 'masks'\n",
        "for tile_id in range(1,8):\n",
        "  for image_id in range(1,20):\n",
        "    image = cv2.imread(f'{dataset_root_folder}/{dataset_name}/Tile {tile_id}/images/image_part_00{image_id}.jpg')\n",
        "    if image is not None:\n",
        "      #print(image.shape)\n",
        "      size_x = (image.shape[1]//image_patch_size)*image_patch_size\n",
        "      size_y = (image.shape[0]//image_patch_size)*image_patch_size\n",
        "      #print (\" {} --- {} - {}\".format(image.shape, size_x, size_y))\n",
        "      image = Image.fromarray(image)\n",
        "      image = image.crop((0,0, size_x, size_y))\n",
        "      #print(\"({},  {})\".format(image.size[0], image.size[1]))\n"
      ],
      "metadata": {
        "colab": {
          "base_uri": "https://localhost:8080/"
        },
        "id": "slc3NlP93MoQ",
        "outputId": "202a8500-21af-4ba6-dfd9-470ac8498162"
      },
      "execution_count": 73,
      "outputs": [
        {
          "output_type": "stream",
          "name": "stdout",
          "text": [
            "(768,  512)\n",
            "(768,  512)\n",
            "(768,  512)\n",
            "(768,  512)\n",
            "(768,  512)\n",
            "(768,  512)\n",
            "(768,  512)\n",
            "(768,  512)\n",
            "(768,  512)\n",
            "(256,  512)\n",
            "(256,  512)\n",
            "(256,  512)\n",
            "(256,  512)\n",
            "(256,  512)\n",
            "(256,  512)\n",
            "(256,  512)\n",
            "(256,  512)\n",
            "(256,  512)\n",
            "(512,  512)\n",
            "(512,  512)\n",
            "(512,  512)\n",
            "(512,  512)\n",
            "(512,  512)\n",
            "(512,  512)\n",
            "(512,  512)\n",
            "(512,  512)\n",
            "(512,  512)\n",
            "(1024,  768)\n",
            "(1024,  768)\n",
            "(1024,  768)\n",
            "(1024,  768)\n",
            "(1024,  768)\n",
            "(1024,  768)\n",
            "(1024,  768)\n",
            "(1024,  768)\n",
            "(1024,  768)\n",
            "(1024,  1024)\n",
            "(1024,  1024)\n",
            "(1024,  1024)\n",
            "(1024,  1024)\n",
            "(1024,  1024)\n",
            "(1024,  1024)\n",
            "(1024,  1024)\n",
            "(1024,  1024)\n",
            "(1024,  1024)\n",
            "(768,  768)\n",
            "(768,  768)\n",
            "(768,  768)\n",
            "(768,  768)\n",
            "(768,  768)\n",
            "(768,  768)\n",
            "(768,  768)\n",
            "(768,  768)\n",
            "(768,  768)\n",
            "(1792,  2048)\n",
            "(1792,  2048)\n",
            "(1792,  2048)\n",
            "(1792,  2048)\n",
            "(1792,  2048)\n",
            "(1792,  2048)\n",
            "(1792,  2048)\n",
            "(1792,  2048)\n",
            "(1792,  2048)\n"
          ]
        }
      ]
    },
    {
      "cell_type": "code",
      "source": [],
      "metadata": {
        "id": "U1grCoOG4hjQ"
      },
      "execution_count": 54,
      "outputs": []
    }
  ]
}